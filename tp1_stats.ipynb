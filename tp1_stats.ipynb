{
 "cells": [
  {
   "cell_type": "markdown",
   "id": "2a5c5d58",
   "metadata": {},
   "source": [
    "# TP1 : Algorithme EM et modèle de mélange gaussien\n",
    "\n",
    "## Introduction à l'estimation statistique - G3 SDIA\n",
    "\n",
    "L'objectif de ce TP est d'implémenter l'algorithme EM pour estimer par maximum de vraisemblance les paramètres d'un modèle de mélange gaussien.\n",
    "\n",
    "On utilisera le dataset *Old Faithful*, qui décrit 272 éruptions du geyser appelé Old Faithful du parc national de Yellowstone aux États-Unis. Chaque observation est constituée de 2 variables : le temps d'attente avant l'éruption (en minutes) et la durée de l'éruption (en minutes).\n",
    "\n",
    "### Instructions\n",
    "\n",
    "1. Renommer votre notebook sous la forme `tp1_Nom1_Nom2.ipynb`, et inclure le nom du binôme dans le notebook. \n",
    "\n",
    "2. Votre code, ainsi que toute sortie du code, doivent être commentés !\n",
    "\n",
    "3. Déposer votre notebook sur Moodle dans la section prévue à cet effet avant la date limite : 15 Octobre 2023, 23h59."
   ]
  },
  {
   "cell_type": "code",
   "execution_count": 16,
   "id": "31576d0a",
   "metadata": {},
   "outputs": [],
   "source": [
    "# Import necessary libraries\n",
    "import numpy as np\n",
    "import scipy.stats as ss\n",
    "import seaborn\n",
    "from matplotlib import pyplot as plt"
   ]
  },
  {
   "cell_type": "markdown",
   "id": "d3d78659",
   "metadata": {},
   "source": [
    "**Q1**. Charger le dataset, normaliser puis visualiser les données. Commenter."
   ]
  },
  {
   "cell_type": "code",
   "execution_count": 17,
   "id": "87ffb7ae",
   "metadata": {},
   "outputs": [
    {
     "data": {
      "image/png": "[encoded data removed]",
      "text/plain": [
       "<Figure size 640x480 with 1 Axes>"
      ]
     },
     "metadata": {},
     "output_type": "display_data"
    }
   ],
   "source": [
    "import pandas as pd\n",
    "import io\n",
    "import requests\n",
    "\n",
    "# Téléchargez le fichier CSV manuellement depuis le lien Seaborn\n",
    "url = \"https://github.com/mwaskom/seaborn-data/raw/master/geyser.csv\"\n",
    "response = requests.get(url)\n",
    "data = io.StringIO(response.text)\n",
    "# Chargez les données à partir du fichier local\n",
    "df = pd.read_csv(data)\n",
    "\n",
    "X = df[['duration', 'waiting']].values\n",
    "N, D = X. shape\n",
    "\n",
    "# Standardize data to avoid numerical instabilities\n",
    "standardize = lambda vec : (vec - np.mean(vec))/np.std(vec)\n",
    "X = standardize(X)\n",
    "\n",
    "duration = X[:,0]\n",
    "waiting = X[:,1]\n",
    "# Show data\n",
    "plt.scatter(duration, waiting)\n",
    "plt.show()"
   ]
  },
  {
   "cell_type": "markdown",
   "id": "6ef8799a",
   "metadata": {},
   "source": [
    "\n",
    "----- Votre réponse ici -----\n",
    "\n",
    "\n",
    "\n",
    "\n",
    "\n",
    "\n"
   ]
  },
  {
   "cell_type": "markdown",
   "id": "a06528c4",
   "metadata": {},
   "source": [
    "**Q2**. On note $\\mathbf{x}_1,...,\\mathbf{x}_n$ les données. On souhaite les modéliser par un modèle de mélange gaussien à $K$ composantes.\n",
    "\n",
    "Écrire une fonction permettant de calculer la log-vraisemblance :\n",
    "$$ \\log \\mathcal{L}(\\theta;\\mathbf{x}_1,...,\\mathbf{x}_n) = \\sum_{i=1}^n \\log \\left( \\sum_{k=1}^K \\pi_k \\frac{1}{2 \\pi \\text{det}(\\boldsymbol{\\Sigma}_k)^{1/2}} \\exp \\left( \\frac{1}{2} (\\mathbf{x}_i - \\boldsymbol{\\mu}_k)^{\\top} \\boldsymbol{\\Sigma}_k^{-1} (\\mathbf{x}_i - \\boldsymbol{\\mu}_k) \\right) \\right), $$\n",
    "avec $\\theta = \\{ \\boldsymbol{\\mu_1}, ..., \\boldsymbol{\\mu_k}, \\boldsymbol{\\Sigma}_1, ..., \\boldsymbol{\\Sigma}_k, \\pi_1, ..., \\pi_k \\}$.\n",
    "\n",
    "On pourra utiliser la fonction $\\texttt{multivariate} \\_ \\texttt{normal.pdf}$ de la librairie scipy.stats."
   ]
  },
  {
   "cell_type": "code",
   "execution_count": 29,
   "id": "a6a3ffe5",
   "metadata": {},
   "outputs": [
    {
     "ename": "ValueError",
     "evalue": "matmul: Input operand 1 has a mismatch in its core dimension 0, with gufunc signature (n?,k),(k,m?)->(n?,m?) (size 1 is different from 2)",
     "output_type": "error",
     "traceback": [
      "\u001b[0;31m---------------------------------------------------------------------------\u001b[0m",
      "\u001b[0;31mValueError\u001b[0m                                Traceback (most recent call last)",
      "\u001b[1;32m/Users/benji/Documents/G3/Cours/Introduction Statistiques/introduction_stats_sdia/tp1_stats.ipynb Cell 7\u001b[0m line \u001b[0;36m1\n\u001b[1;32m     <a href='vscode-notebook-cell:/Users/benji/Documents/G3/Cours/Introduction%20Statistiques/introduction_stats_sdia/tp1_stats.ipynb#X36sZmlsZQ%3D%3D?line=9'>10</a>\u001b[0m     \u001b[39mreturn\u001b[39;00m total_sum\n\u001b[1;32m     <a href='vscode-notebook-cell:/Users/benji/Documents/G3/Cours/Introduction%20Statistiques/introduction_stats_sdia/tp1_stats.ipynb#X36sZmlsZQ%3D%3D?line=10'>11</a>\u001b[0m     \u001b[39m# # # # # # # # #\u001b[39;00m\n\u001b[1;32m     <a href='vscode-notebook-cell:/Users/benji/Documents/G3/Cours/Introduction%20Statistiques/introduction_stats_sdia/tp1_stats.ipynb#X36sZmlsZQ%3D%3D?line=11'>12</a>\u001b[0m     \u001b[39m# YOUR CODE HERE #\u001b[39;00m\n\u001b[1;32m     <a href='vscode-notebook-cell:/Users/benji/Documents/G3/Cours/Introduction%20Statistiques/introduction_stats_sdia/tp1_stats.ipynb#X36sZmlsZQ%3D%3D?line=12'>13</a>\u001b[0m     \u001b[39m# # # # # # # # #\u001b[39;00m\n\u001b[0;32m---> <a href='vscode-notebook-cell:/Users/benji/Documents/G3/Cours/Introduction%20Statistiques/introduction_stats_sdia/tp1_stats.ipynb#X36sZmlsZQ%3D%3D?line=14'>15</a>\u001b[0m log_likelihood(\u001b[39m0\u001b[39;49m, X)\n",
      "\u001b[1;32m/Users/benji/Documents/G3/Cours/Introduction Statistiques/introduction_stats_sdia/tp1_stats.ipynb Cell 7\u001b[0m line \u001b[0;36m6\n\u001b[1;32m      <a href='vscode-notebook-cell:/Users/benji/Documents/G3/Cours/Introduction%20Statistiques/introduction_stats_sdia/tp1_stats.ipynb#X36sZmlsZQ%3D%3D?line=3'>4</a>\u001b[0m     intern_sum \u001b[39m=\u001b[39m \u001b[39m0\u001b[39m\n\u001b[1;32m      <a href='vscode-notebook-cell:/Users/benji/Documents/G3/Cours/Introduction%20Statistiques/introduction_stats_sdia/tp1_stats.ipynb#X36sZmlsZQ%3D%3D?line=4'>5</a>\u001b[0m     \u001b[39mfor\u001b[39;00m k \u001b[39min\u001b[39;00m \u001b[39mrange\u001b[39m(\u001b[39m1\u001b[39m,\u001b[39m2\u001b[39m\u001b[39m+\u001b[39m\u001b[39m1\u001b[39m):\n\u001b[0;32m----> <a href='vscode-notebook-cell:/Users/benji/Documents/G3/Cours/Introduction%20Statistiques/introduction_stats_sdia/tp1_stats.ipynb#X36sZmlsZQ%3D%3D?line=5'>6</a>\u001b[0m         intern_sum \u001b[39m+\u001b[39m\u001b[39m=\u001b[39m ss\u001b[39m.\u001b[39;49mmultivariate_normal\u001b[39m.\u001b[39;49mpdf(X)\n\u001b[1;32m      <a href='vscode-notebook-cell:/Users/benji/Documents/G3/Cours/Introduction%20Statistiques/introduction_stats_sdia/tp1_stats.ipynb#X36sZmlsZQ%3D%3D?line=7'>8</a>\u001b[0m     total_sum \u001b[39m+\u001b[39m\u001b[39m=\u001b[39m np\u001b[39m.\u001b[39mlog(intern_sum)\n\u001b[1;32m     <a href='vscode-notebook-cell:/Users/benji/Documents/G3/Cours/Introduction%20Statistiques/introduction_stats_sdia/tp1_stats.ipynb#X36sZmlsZQ%3D%3D?line=9'>10</a>\u001b[0m \u001b[39mreturn\u001b[39;00m total_sum\n",
      "File \u001b[0;32m~/Documents/G3/Cours/Introduction Statistiques/introduction_stats_sdia/venv/lib/python3.10/site-packages/scipy/stats/_multivariate.py:588\u001b[0m, in \u001b[0;36mmultivariate_normal_gen.pdf\u001b[0;34m(self, x, mean, cov, allow_singular)\u001b[0m\n\u001b[1;32m    586\u001b[0m dim, mean, cov_object \u001b[39m=\u001b[39m params\n\u001b[1;32m    587\u001b[0m x \u001b[39m=\u001b[39m \u001b[39mself\u001b[39m\u001b[39m.\u001b[39m_process_quantiles(x, dim)\n\u001b[0;32m--> 588\u001b[0m out \u001b[39m=\u001b[39m np\u001b[39m.\u001b[39mexp(\u001b[39mself\u001b[39;49m\u001b[39m.\u001b[39;49m_logpdf(x, mean, cov_object))\n\u001b[1;32m    589\u001b[0m \u001b[39mif\u001b[39;00m np\u001b[39m.\u001b[39many(cov_object\u001b[39m.\u001b[39mrank \u001b[39m<\u001b[39m dim):\n\u001b[1;32m    590\u001b[0m     out_of_bounds \u001b[39m=\u001b[39m \u001b[39m~\u001b[39mcov_object\u001b[39m.\u001b[39m_support_mask(x\u001b[39m-\u001b[39mmean)\n",
      "File \u001b[0;32m~/Documents/G3/Cours/Introduction Statistiques/introduction_stats_sdia/venv/lib/python3.10/site-packages/scipy/stats/_multivariate.py:535\u001b[0m, in \u001b[0;36mmultivariate_normal_gen._logpdf\u001b[0;34m(self, x, mean, cov_object)\u001b[0m\n\u001b[1;32m    533\u001b[0m     log_det_cov \u001b[39m=\u001b[39m log_det_cov[\u001b[39m.\u001b[39m\u001b[39m.\u001b[39m\u001b[39m.\u001b[39m, np\u001b[39m.\u001b[39mnewaxis]\n\u001b[1;32m    534\u001b[0m     rank \u001b[39m=\u001b[39m rank[\u001b[39m.\u001b[39m\u001b[39m.\u001b[39m\u001b[39m.\u001b[39m, np\u001b[39m.\u001b[39mnewaxis]\n\u001b[0;32m--> 535\u001b[0m maha \u001b[39m=\u001b[39m np\u001b[39m.\u001b[39msum(np\u001b[39m.\u001b[39msquare(cov_object\u001b[39m.\u001b[39;49mwhiten(dev)), axis\u001b[39m=\u001b[39m\u001b[39m-\u001b[39m\u001b[39m1\u001b[39m)\n\u001b[1;32m    536\u001b[0m \u001b[39mreturn\u001b[39;00m \u001b[39m-\u001b[39m\u001b[39m0.5\u001b[39m \u001b[39m*\u001b[39m (rank \u001b[39m*\u001b[39m _LOG_2PI \u001b[39m+\u001b[39m log_det_cov \u001b[39m+\u001b[39m maha)\n",
      "File \u001b[0;32m~/Documents/G3/Cours/Introduction Statistiques/introduction_stats_sdia/venv/lib/python3.10/site-packages/scipy/stats/_covariance.py:362\u001b[0m, in \u001b[0;36mCovariance.whiten\u001b[0;34m(self, x)\u001b[0m\n\u001b[1;32m    313\u001b[0m \u001b[39mdef\u001b[39;00m \u001b[39mwhiten\u001b[39m(\u001b[39mself\u001b[39m, x):\n\u001b[1;32m    314\u001b[0m \u001b[39m    \u001b[39m\u001b[39m\"\"\"\u001b[39;00m\n\u001b[1;32m    315\u001b[0m \u001b[39m    Perform a whitening transformation on data.\u001b[39;00m\n\u001b[1;32m    316\u001b[0m \n\u001b[0;32m   (...)\u001b[0m\n\u001b[1;32m    360\u001b[0m \n\u001b[1;32m    361\u001b[0m \u001b[39m    \"\"\"\u001b[39;00m\n\u001b[0;32m--> 362\u001b[0m     \u001b[39mreturn\u001b[39;00m \u001b[39mself\u001b[39;49m\u001b[39m.\u001b[39;49m_whiten(np\u001b[39m.\u001b[39;49masarray(x))\n",
      "File \u001b[0;32m~/Documents/G3/Cours/Introduction Statistiques/introduction_stats_sdia/venv/lib/python3.10/site-packages/scipy/stats/_covariance.py:627\u001b[0m, in \u001b[0;36mCovViaPSD._whiten\u001b[0;34m(self, x)\u001b[0m\n\u001b[1;32m    626\u001b[0m \u001b[39mdef\u001b[39;00m \u001b[39m_whiten\u001b[39m(\u001b[39mself\u001b[39m, x):\n\u001b[0;32m--> 627\u001b[0m     \u001b[39mreturn\u001b[39;00m x \u001b[39m@\u001b[39;49m \u001b[39mself\u001b[39;49m\u001b[39m.\u001b[39;49m_LP\n",
      "\u001b[0;31mValueError\u001b[0m: matmul: Input operand 1 has a mismatch in its core dimension 0, with gufunc signature (n?,k),(k,m?)->(n?,m?) (size 1 is different from 2)"
     ]
    }
   ],
   "source": [
    "def log_likelihood(theta, X): # Fill in the appropriate arguments\n",
    "    K = 2\n",
    "    total_sum = 0\n",
    "    for i in range (1,N+1):\n",
    "        intern_sum = 0\n",
    "        for k in range(1,K+1):\n",
    "            intern_sum += ss.multivariate_normal.pdf(X,theta[0][k-1], theta[1][k-1])\n",
    "        \n",
    "        total_sum += np.log(intern_sum)\n",
    "    \n",
    "    return total_sum\n",
    "    # # # # # # # # #\n",
    "    # YOUR CODE HERE #\n",
    "    # # # # # # # # #\n",
    "\n",
    "log_likelihood(0, X)"
   ]
  },
  {
   "cell_type": "markdown",
   "id": "6a3bfc0f",
   "metadata": {},
   "source": [
    "**Q3**. Écrire une fonction qui implémente l'algorithme EM dans ce modèle, prenant pour arguments les données, le nombre de composantes $K$, et le nombre d'itérations de l'algorithme $N_{\\text{iter}}$. Cette fonction retournera un tableau de taille $N_{\\text{iter}} + 1$ contenant l'évolution des valeurs de la log-vraisemblance, ainsi que les valeurs finales des paramètres.\n",
    "\n",
    "Initialisation des paramètres :\n",
    "- Pour les moyennes, les $K$ premières observations du dataset ;\n",
    "- Pour les matrices de covariances, la matrice identité ;\n",
    "- $\\pi_k = 1/K$."
   ]
  },
  {
   "cell_type": "code",
   "execution_count": null,
   "id": "8fc3afea",
   "metadata": {},
   "outputs": [],
   "source": [
    "def EM_algorithm_v1(X, K, Niter):\n",
    "    N, D = X. shape\n",
    "    \n",
    "    # Initialize parameters\n",
    "\n",
    "    # # # # # # # # #\n",
    "    # YOUR CODE HERE #\n",
    "    # # # # # # # # #\n",
    "\n",
    "    for i in range(0,Niter):\n",
    "        # E-STEP\n",
    "        \n",
    "        # # # # # # # # #\n",
    "        # YOUR CODE HERE #\n",
    "        # # # # # # # # #\n",
    "        \n",
    "        # M-STEP\n",
    "        \n",
    "        # # # # # # # # #\n",
    "        # YOUR CODE HERE #\n",
    "        # # # # # # # # #\n",
    "        \n",
    "    return # YOUR CODE HERE #"
   ]
  },
  {
   "cell_type": "markdown",
   "id": "4f096d0d",
   "metadata": {},
   "source": [
    "**Q4**. Faire tourner l'algorithme avec $K = 2$ et $N_{\\text{iter}} = 50$.\n",
    "\n",
    "Afficher l'évolution de la log-vraisemblance en fonction des itérations. Commenter.\n",
    "\n",
    "Sur une même figure, afficher le dataset et représenter les estimations des deux lois normales du mélange à l'aide d'un *contour plot*. On pourra utiliser la fonction $\\texttt{plt.contour}$."
   ]
  },
  {
   "cell_type": "code",
   "execution_count": null,
   "id": "a05c1379",
   "metadata": {},
   "outputs": [],
   "source": [
    "K = 2\n",
    "Niter = 50\n",
    "\n",
    "# # # # # # # # #\n",
    "# YOUR CODE HERE #\n",
    "# # # # # # # # #"
   ]
  },
  {
   "cell_type": "markdown",
   "id": "374ee4cb",
   "metadata": {},
   "source": [
    "----- Votre réponse ici -----"
   ]
  },
  {
   "cell_type": "markdown",
   "id": "44e57e26",
   "metadata": {},
   "source": [
    "**Q5**. On souhaite maintenant étudier l'influence de l'initialisation sur les résultats. Modifier la fonction implémentant l'algorithme EM en y rajoutant un argument pour la graine aléatoire. Les paramètres seront maintenant initialisés de la manière suivante :\n",
    "- $\\boldsymbol{\\mu}_k \\sim \\mathcal{N}(\\mathbf{0},\\mathbf{I}_2)$ ;\n",
    "- $[\\pi_1, ..., \\pi_K]^{\\top} \\sim \\text{Dirichlet}([1, ..., 1]^{\\top})$ ;\n",
    "- On gardera l'initialisation des matrices de covariance à la matrice identité."
   ]
  },
  {
   "cell_type": "code",
   "execution_count": null,
   "id": "58600cbb",
   "metadata": {},
   "outputs": [],
   "source": [
    "def EM_algorithm_v2(X, K, Niter, seed):\n",
    "    N, D = X. shape\n",
    "    \n",
    "    # Initialize parameters\n",
    "    np.random.seed(seed)\n",
    "\n",
    "    # # # # # # # # #\n",
    "    # YOUR CODE HERE #\n",
    "    # # # # # # # # #\n",
    "\n",
    "    for i in range(0,Niter):\n",
    "        # E-STEP\n",
    "        \n",
    "        # # # # # # # # #\n",
    "        # YOUR CODE HERE #\n",
    "        # # # # # # # # #\n",
    "        \n",
    "        # M-STEP\n",
    "        \n",
    "        # # # # # # # # #\n",
    "        # YOUR CODE HERE #\n",
    "        # # # # # # # # #\n",
    "        \n",
    "    return # YOUR CODE HERE #"
   ]
  },
  {
   "cell_type": "markdown",
   "id": "ae230134",
   "metadata": {},
   "source": [
    "**Q6**. On choisit maintenant $K=3$. Représenter l'évolution de la log-vraisemblance pour 10 graines aléatoires différentes. Commenter.\n",
    "\n",
    "Afficher deux cas où la solution retournée par l'algorithme EM est visuellement différente. Commenter.\n",
    "\n",
    "Quelle estimation de paramètres doit-on choisir ?"
   ]
  },
  {
   "cell_type": "code",
   "execution_count": null,
   "id": "a7467b06",
   "metadata": {},
   "outputs": [],
   "source": [
    "K = 3\n",
    "\n",
    "# # # # # # # # #\n",
    "# YOUR CODE HERE #\n",
    "# # # # # # # # #"
   ]
  },
  {
   "cell_type": "markdown",
   "id": "3c0002c3",
   "metadata": {},
   "source": [
    "\n",
    "----- Votre réponse ici -----"
   ]
  },
  {
   "cell_type": "markdown",
   "id": "46a74d13",
   "metadata": {},
   "source": [
    "**Q7**. On cherche maintenant à choisir la valeur optimale de $K$. Pour cela, on aimerait pouvoir comparer la vraisemblance des modèles obtenus avec différentes valeurs de $K$.\n",
    "\n",
    "Cela peut se faire au travers d'un critère de sélection de modèle. Dans ce TP, nous étudierons le critère dit BIC :\n",
    "$$ \\text{BIC}(m) = k(m) \\log(n) - 2 \\log \\mathcal{L}(m),$$\n",
    "où $m$ est un modèle (ici donné par une valeur de $K$), $k_m$ est le nombre de paramètres libres dans le modèle, $n$ le nombre d'échantillons, et $\\mathcal{L}_m$ le maximum de la fonction de vraisemblance de le modèle $m$. On sélectionne le modèle avec le plus faible BIC.\n",
    "\n",
    "Montrer que $$k(m) = \\frac{K}{2} (D+1)(D+2) - 1.$$\n",
    "\n",
    "Comparer les valeurs de $K$ allant de 1 à 6. Quel est le modèle optimal d'après le critère BIC ?"
   ]
  },
  {
   "cell_type": "code",
   "execution_count": null,
   "id": "a9ed453a",
   "metadata": {},
   "outputs": [],
   "source": [
    "# # # # # # # # #\n",
    "# YOUR CODE HERE #\n",
    "# # # # # # # # #"
   ]
  },
  {
   "cell_type": "markdown",
   "id": "e689fe03",
   "metadata": {},
   "source": [
    "\n",
    "----- Votre réponse ici -----"
   ]
  },
  {
   "cell_type": "markdown",
   "id": "6fd103c6",
   "metadata": {},
   "source": [
    "**Question bonus**. Expliquer comment l'algorithme EM peut-être utilisé pour du clustering."
   ]
  },
  {
   "cell_type": "markdown",
   "id": "dc8a1b08",
   "metadata": {},
   "source": [
    "\n",
    "----- Votre réponse ici -----"
   ]
  }
 ],
 "metadata": {
  "kernelspec": {
   "display_name": "Python 3 (ipykernel)",
   "language": "python",
   "name": "python3"
  },
  "language_info": {
   "codemirror_mode": {
    "name": "ipython",
    "version": 3
   },
   "file_extension": ".py",
   "mimetype": "text/x-python",
   "name": "python",
   "nbconvert_exporter": "python",
   "pygments_lexer": "ipython3",
   "version": "3.10.10"
  }
 },
 "nbformat": 4,
 "nbformat_minor": 5
}
