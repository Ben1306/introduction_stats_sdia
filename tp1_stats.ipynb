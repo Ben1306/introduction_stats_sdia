{
 "cells": [
  {
   "cell_type": "markdown",
   "id": "2a5c5d58",
   "metadata": {},
   "source": [
    "# TP1 : Algorithme EM et modèle de mélange gaussien\n",
    "\n",
    "## Introduction à l'estimation statistique - G3 SDIA\n",
    "\n",
    "L'objectif de ce TP est d'implémenter l'algorithme EM pour estimer par maximum de vraisemblance les paramètres d'un modèle de mélange gaussien.\n",
    "\n",
    "On utilisera le dataset *Old Faithful*, qui décrit 272 éruptions du geyser appelé Old Faithful du parc national de Yellowstone aux États-Unis. Chaque observation est constituée de 2 variables : le temps d'attente avant l'éruption (en minutes) et la durée de l'éruption (en minutes).\n",
    "\n",
    "### Instructions\n",
    "\n",
    "1. Renommer votre notebook sous la forme `tp1_Nom1_Nom2.ipynb`, et inclure le nom du binôme dans le notebook. \n",
    "\n",
    "2. Votre code, ainsi que toute sortie du code, doivent être commentés !\n",
    "\n",
    "3. Déposer votre notebook sur Moodle dans la section prévue à cet effet avant la date limite : 15 Octobre 2023, 23h59."
   ]
  },
  {
   "cell_type": "code",
   "execution_count": 12,
   "id": "31576d0a",
   "metadata": {},
   "outputs": [],
   "source": [
    "# Import necessary libraries\n",
    "import numpy as np\n",
    "import scipy.stats as ss\n",
    "import seaborn\n",
    "from matplotlib import pyplot as plt"
   ]
  },
  {
   "cell_type": "markdown",
   "id": "d3d78659",
   "metadata": {},
   "source": [
    "**Q1**. Charger le dataset, normaliser puis visualiser les données. Commenter."
   ]
  },
  {
   "cell_type": "code",
   "execution_count": 13,
   "id": "87ffb7ae",
   "metadata": {},
   "outputs": [
    {
     "data": {
      "image/png": "[encoded data removed]",
      "text/plain": [
       "<Figure size 640x480 with 1 Axes>"
      ]
     },
     "metadata": {},
     "output_type": "display_data"
    }
   ],
   "source": [
    "import pandas as pd\n",
    "import io\n",
    "import requests\n",
    "\n",
    "# Téléchargez le fichier CSV manuellement depuis le lien Seaborn\n",
    "url = \"https://github.com/mwaskom/seaborn-data/raw/master/geyser.csv\"\n",
    "response = requests.get(url)\n",
    "data = io.StringIO(response.text)\n",
    "# Chargez les données à partir du fichier local\n",
    "df = pd.read_csv(data)\n",
    "\n",
    "X = df[['duration', 'waiting']].values\n",
    "N, D = X. shape\n",
    "\n",
    "# Standardize data to avoid numerical instabilities\n",
    "standardize = lambda vec : (vec - np.mean(vec))/np.std(vec)\n",
    "X = standardize(X)\n",
    "\n",
    "duration = X[:,0]\n",
    "waiting = X[:,1]\n",
    "# Show data\n",
    "plt.scatter(duration, waiting)\n",
    "plt.show()"
   ]
  },
  {
   "cell_type": "markdown",
   "id": "6ef8799a",
   "metadata": {},
   "source": [
    "\n",
    "----- Votre réponse ici -----\n",
    "\n",
    "\n",
    "\n",
    "\n",
    "\n",
    "\n"
   ]
  },
  {
   "cell_type": "markdown",
   "id": "a06528c4",
   "metadata": {},
   "source": [
    "**Q2**. On note $\\mathbf{x}_1,...,\\mathbf{x}_n$ les données. On souhaite les modéliser par un modèle de mélange gaussien à $K$ composantes.\n",
    "\n",
    "Écrire une fonction permettant de calculer la log-vraisemblance :\n",
    "$$ \\log \\mathcal{L}(\\theta;\\mathbf{x}_1,...,\\mathbf{x}_n) = \\sum_{i=1}^n \\log \\left( \\sum_{k=1}^K \\pi_k \\frac{1}{2 \\pi \\text{det}(\\boldsymbol{\\Sigma}_k)^{1/2}} \\exp \\left( \\frac{1}{2} (\\mathbf{x}_i - \\boldsymbol{\\mu}_k)^{\\top} \\boldsymbol{\\Sigma}_k^{-1} (\\mathbf{x}_i - \\boldsymbol{\\mu}_k) \\right) \\right), $$\n",
    "avec $\\theta = \\{ \\boldsymbol{\\mu_1}, ..., \\boldsymbol{\\mu_k}, \\boldsymbol{\\Sigma}_1, ..., \\boldsymbol{\\Sigma}_k, \\pi_1, ..., \\pi_k \\}$.\n",
    "\n",
    "On pourra utiliser la fonction $\\texttt{multivariate} \\_ \\texttt{normal.pdf}$ de la librairie scipy.stats."
   ]
  },
  {
   "cell_type": "code",
   "execution_count": 29,
   "id": "a6a3ffe5",
   "metadata": {},
   "outputs": [
    {
     "data": {
      "text/plain": [
       "'\\nlog_likelihood(\\n    [\\n        [[2.1,0.9],[0.9,0.8]],\\n        [[[1,0],[0,1]],[[1,0],[0,1]]],\\n        [0.5,0.5]\\n    ],\\n    X,\\n    2\\n)\\n'"
      ]
     },
     "execution_count": 29,
     "metadata": {},
     "output_type": "execute_result"
    }
   ],
   "source": [
    "def log_likelihood(theta, X, K): # Fill in the appropriate arguments\n",
    "    \"\"\"\n",
    "    This function calculates the log_likelihood of an input matrix X.\n",
    "\n",
    "        params: \n",
    "            K: is the number of hyperparameters of our model\n",
    "            X: is the input matrix\n",
    "            theta: \n",
    "                theta[0] is the K mu vectors\n",
    "                theta[1] are the K covariance matrix\n",
    "                theta[2] are the K pi weights of the sum\n",
    "    \"\"\"\n",
    "    total_sum = 0\n",
    "    for i in range (N):\n",
    "        intern_sum = 0\n",
    "        for k in range(K):\n",
    "            intern_sum += theta[2][k] * ss.multivariate_normal.pdf(X[i,:], mean=theta[0][k], cov=theta[1][k])\n",
    "        total_sum += np.log(intern_sum)\n",
    "    \n",
    "    return total_sum\n",
    "    # # # # # # # # #\n",
    "    # YOUR CODE HERE #\n",
    "    # # # # # # # # #\n",
    "\n",
    "\"\"\"\n",
    "log_likelihood(\n",
    "    [\n",
    "        [[2.1,0.9],[0.9,0.8]],\n",
    "        [[[1,0],[0,1]],[[1,0],[0,1]]],\n",
    "        [0.5,0.5]\n",
    "    ],\n",
    "    X,\n",
    "    2\n",
    ")\n",
    "\"\"\""
   ]
  },
  {
   "cell_type": "markdown",
   "id": "6a3bfc0f",
   "metadata": {},
   "source": [
    "**Q3**. Écrire une fonction qui implémente l'algorithme EM dans ce modèle, prenant pour arguments les données, le nombre de composantes $K$, et le nombre d'itérations de l'algorithme $N_{\\text{iter}}$. Cette fonction retournera un tableau de taille $N_{\\text{iter}} + 1$ contenant l'évolution des valeurs de la log-vraisemblance, ainsi que les valeurs finales des paramètres.\n",
    "\n",
    "Initialisation des paramètres :\n",
    "- Pour les moyennes, les $K$ premières observations du dataset ;\n",
    "- Pour les matrices de covariances, la matrice identité ;\n",
    "- $\\pi_k = 1/K$."
   ]
  },
  {
   "cell_type": "code",
   "execution_count": 15,
   "id": "8fc3afea",
   "metadata": {},
   "outputs": [],
   "source": [
    "from copy import deepcopy\n",
    "def EM_algorithm_v1(X, K, Niter):\n",
    "    N, D = X. shape\n",
    "    \n",
    "    # Initialize parameters\n",
    "    theta = [\n",
    "        X[:K,:],\n",
    "        [np.identity(D) for _ in range(K)],\n",
    "        [1/K for _ in range(K)]\n",
    "    ]\n",
    "\n",
    "    output_theta = []\n",
    "    # # # # # # # # #\n",
    "    # YOUR CODE HERE #\n",
    "    # # # # # # # # #\n",
    "\n",
    "    for _ in range(0,Niter):\n",
    "        # E-STEP\n",
    "        r_n_k = np.array([[theta[2][k] *  ss.multivariate_normal.pdf(X[l,:], mean=theta[0][k], cov=theta[1][k]) for k in range(K)] for l in range(N)])\n",
    "        r_n_k = np.array([ r_n_k[l,:] / sum(r_n_k[l,:]) for l in range(N)])\n",
    "        # # # # # # # # #\n",
    "        # YOUR CODE HERE #\n",
    "        # # # # # # # # #\n",
    "        \n",
    "        # M-STEP\n",
    "        for k in range(K):\n",
    "\n",
    "            theta[0][k] = np.array( np.sum(np.array([ r_n_k[l,k] * X[l,:] for l in range(N) ]), axis=0) / np.sum(r_n_k[:,k]) )\n",
    "            \n",
    "            first_term = np.sum(np.array([ r_n_k[l,k] * np.outer(X[l,:],X[l,:]) for l in range(N) ]), axis=0) / np.sum(r_n_k[:,k])\n",
    "            second_term = np.outer(theta[0][k],theta[0][k])\n",
    "\n",
    "            theta[1][k] = first_term - second_term\n",
    "\n",
    "            theta[2][k] = 1/N * np.sum( r_n_k[:,k] )\n",
    "\n",
    "        output_theta.append(deepcopy(theta))\n",
    "        # # # # # # # # #\n",
    "        # YOUR CODE HERE #\n",
    "        # # # # # # # # #\n",
    "\n",
    "    return output_theta # YOUR CODE HERE #\n"
   ]
  },
  {
   "cell_type": "markdown",
   "id": "4f096d0d",
   "metadata": {},
   "source": [
    "**Q4**. Faire tourner l'algorithme avec $K = 2$ et $N_{\\text{iter}} = 50$.\n",
    "\n",
    "Afficher l'évolution de la log-vraisemblance en fonction des itérations. Commenter.\n",
    "\n",
    "Sur une même figure, afficher le dataset et représenter les estimations des deux lois normales du mélange à l'aide d'un *contour plot*. On pourra utiliser la fonction $\\texttt{plt.contour}$."
   ]
  },
  {
   "cell_type": "code",
   "execution_count": 30,
   "id": "a05c1379",
   "metadata": {},
   "outputs": [
    {
     "name": "stdout",
     "output_type": "stream",
     "text": [
      "[array([[-0.95746642,  1.01392721],\n",
      "       [-0.96577281,  0.90462563]]), [array([[0.00112251, 0.01108753],\n",
      "       [0.01108753, 0.13681067]]), array([[0.00078607, 0.01023637],\n",
      "       [0.01023637, 0.15803315]])], [0.5190003172493346, 0.4809996827506654]]\n",
      "[array([[-0.95746642,  1.01392721],\n",
      "       [-0.96577281,  0.90462563]]), [array([[0.00112251, 0.01108753],\n",
      "       [0.01108753, 0.13681067]]), array([[0.00078607, 0.01023637],\n",
      "       [0.01023637, 0.15803315]])], [0.5190003172493346, 0.4809996827506654]]\n"
     ]
    },
    {
     "ename": "ValueError",
     "evalue": "all the input array dimensions except for the concatenation axis must match exactly, but along dimension 1, the array at index 0 has size 180 and the array at index 1 has size 12",
     "output_type": "error",
     "traceback": [
      "\u001b[0;31m---------------------------------------------------------------------------\u001b[0m",
      "\u001b[0;31mValueError\u001b[0m                                Traceback (most recent call last)",
      "\u001b[1;32m/Users/benji/Documents/G3/Cours/Introduction Statistiques/introduction_stats_sdia/tp1_stats.ipynb Cell 11\u001b[0m line \u001b[0;36m2\n\u001b[1;32m     <a href='vscode-notebook-cell:/Users/benji/Documents/G3/Cours/Introduction%20Statistiques/introduction_stats_sdia/tp1_stats.ipynb#X13sZmlsZQ%3D%3D?line=21'>22</a>\u001b[0m y \u001b[39m=\u001b[39m np\u001b[39m.\u001b[39marange(y_min, y_max, step)\n\u001b[1;32m     <a href='vscode-notebook-cell:/Users/benji/Documents/G3/Cours/Introduction%20Statistiques/introduction_stats_sdia/tp1_stats.ipynb#X13sZmlsZQ%3D%3D?line=22'>23</a>\u001b[0m Xgrid, Ygrid \u001b[39m=\u001b[39m np\u001b[39m.\u001b[39mmeshgrid(x, y)\n\u001b[0;32m---> <a href='vscode-notebook-cell:/Users/benji/Documents/G3/Cours/Introduction%20Statistiques/introduction_stats_sdia/tp1_stats.ipynb#X13sZmlsZQ%3D%3D?line=25'>26</a>\u001b[0m pos \u001b[39m=\u001b[39m np\u001b[39m.\u001b[39;49mdstack((x, y))\n\u001b[1;32m     <a href='vscode-notebook-cell:/Users/benji/Documents/G3/Cours/Introduction%20Statistiques/introduction_stats_sdia/tp1_stats.ipynb#X13sZmlsZQ%3D%3D?line=26'>27</a>\u001b[0m pdf_values \u001b[39m=\u001b[39m ss\u001b[39m.\u001b[39mmultivariate_normal(thetas[\u001b[39m-\u001b[39m\u001b[39m1\u001b[39m][\u001b[39m0\u001b[39m][\u001b[39m0\u001b[39m], thetas[\u001b[39m-\u001b[39m\u001b[39m1\u001b[39m][\u001b[39m1\u001b[39m][\u001b[39m0\u001b[39m])\u001b[39m.\u001b[39mpdf(pos)\n\u001b[1;32m     <a href='vscode-notebook-cell:/Users/benji/Documents/G3/Cours/Introduction%20Statistiques/introduction_stats_sdia/tp1_stats.ipynb#X13sZmlsZQ%3D%3D?line=28'>29</a>\u001b[0m \u001b[39mprint\u001b[39m(pdf_values\u001b[39m.\u001b[39mshape)\n",
      "File \u001b[0;32m~/Documents/G3/Cours/Introduction Statistiques/introduction_stats_sdia/venv/lib/python3.10/site-packages/numpy/lib/shape_base.py:715\u001b[0m, in \u001b[0;36mdstack\u001b[0;34m(tup)\u001b[0m\n\u001b[1;32m    713\u001b[0m \u001b[39mif\u001b[39;00m \u001b[39mnot\u001b[39;00m \u001b[39misinstance\u001b[39m(arrs, \u001b[39mlist\u001b[39m):\n\u001b[1;32m    714\u001b[0m     arrs \u001b[39m=\u001b[39m [arrs]\n\u001b[0;32m--> 715\u001b[0m \u001b[39mreturn\u001b[39;00m _nx\u001b[39m.\u001b[39;49mconcatenate(arrs, \u001b[39m2\u001b[39;49m)\n",
      "\u001b[0;31mValueError\u001b[0m: all the input array dimensions except for the concatenation axis must match exactly, but along dimension 1, the array at index 0 has size 180 and the array at index 1 has size 12"
     ]
    },
    {
     "data": {
      "image/png": "[encoded data removed]",
      "text/plain": [
       "<Figure size 640x480 with 1 Axes>"
      ]
     },
     "metadata": {},
     "output_type": "display_data"
    }
   ],
   "source": [
    "K = 2\n",
    "Niter = 50\n",
    "\n",
    "thetas = EM_algorithm_v1(X, 2, 50)\n",
    "\n",
    "x = np.array([k for k in range(Niter)])\n",
    "y = np.array([log_likelihood(theta, X, K) for theta in thetas])\n",
    "#print(y)\n",
    "\n",
    "plt.plot(x,y)\n",
    "\n",
    "\n",
    "y_min, y_max = -1.02, -0.9  # Adjust the range as needed\n",
    "x_min, x_max = 0, 1.8  # Adjust the range as needed\n",
    "step = 0.01  # Adjust the step size as needed\n",
    "x = np.arange(x_min, x_max, step)\n",
    "y = np.arange(y_min, y_max, step)\n",
    "Xgrid, Ygrid = np.meshgrid(x, y)\n",
    "\n",
    "\n",
    "pos = np.dstack((x, y))\n",
    "pdf_values = ss.multivariate_normal(thetas[-1][0][0], thetas[-1][1][0]).pdf(pos)\n",
    "\n",
    "print(pdf_values.shape)\n",
    "\n",
    "plt.scatter(X[:, 0], X[:, 1], alpha=1)\n",
    "for theta in thetas:\n",
    "    for k in range(K):\n",
    "        mean = theta[0][k]\n",
    "        cov = theta[1][k]\n",
    "        plt.contour(\n",
    "            x,\n",
    "            y,\n",
    "            pdf_values(),\n",
    "            cmap='viridis'\n",
    "        )\n",
    "plt.xlabel('X1')\n",
    "plt.ylabel('X2')\n",
    "plt.title('Contour Plots of Estimated Normal Distributions')\n",
    "\n",
    "\n",
    "plt.show()\n",
    "\n",
    "\n",
    "# # # # # # # # #\n",
    "# YOUR CODE HERE #\n",
    "# # # # # # # # #"
   ]
  },
  {
   "cell_type": "markdown",
   "id": "374ee4cb",
   "metadata": {},
   "source": [
    "----- Votre réponse ici -----"
   ]
  },
  {
   "cell_type": "markdown",
   "id": "44e57e26",
   "metadata": {},
   "source": [
    "**Q5**. On souhaite maintenant étudier l'influence de l'initialisation sur les résultats. Modifier la fonction implémentant l'algorithme EM en y rajoutant un argument pour la graine aléatoire. Les paramètres seront maintenant initialisés de la manière suivante :\n",
    "- $\\boldsymbol{\\mu}_k \\sim \\mathcal{N}(\\mathbf{0},\\mathbf{I}_2)$ ;\n",
    "- $[\\pi_1, ..., \\pi_K]^{\\top} \\sim \\text{Dirichlet}([1, ..., 1]^{\\top})$ ;\n",
    "- On gardera l'initialisation des matrices de covariance à la matrice identité."
   ]
  },
  {
   "cell_type": "code",
   "execution_count": null,
   "id": "58600cbb",
   "metadata": {},
   "outputs": [
    {
     "ename": "IndentationError",
     "evalue": "expected an indented block after 'for' statement on line 11 (1666574397.py, line 24)",
     "output_type": "error",
     "traceback": [
      "\u001b[0;36m  Cell \u001b[0;32mIn[115], line 24\u001b[0;36m\u001b[0m\n\u001b[0;31m    return # YOUR CODE HERE #\u001b[0m\n\u001b[0m    ^\u001b[0m\n\u001b[0;31mIndentationError\u001b[0m\u001b[0;31m:\u001b[0m expected an indented block after 'for' statement on line 11\n"
     ]
    }
   ],
   "source": [
    "def EM_algorithm_v2(X, K, Niter, seed):\n",
    "    N, D = X. shape\n",
    "    \n",
    "    # Initialize parameters\n",
    "    np.random.seed(seed)\n",
    "\n",
    "    # # # # # # # # #\n",
    "    # YOUR CODE HERE #\n",
    "    # # # # # # # # #\n",
    "\n",
    "    for i in range(0,Niter):\n",
    "        # E-STEP\n",
    "        \n",
    "        # # # # # # # # #\n",
    "        # YOUR CODE HERE #\n",
    "        # # # # # # # # #\n",
    "        \n",
    "        # M-STEP\n",
    "        \n",
    "        # # # # # # # # #\n",
    "        # YOUR CODE HERE #\n",
    "        # # # # # # # # #\n",
    "        \n",
    "    return # YOUR CODE HERE #"
   ]
  },
  {
   "cell_type": "markdown",
   "id": "ae230134",
   "metadata": {},
   "source": [
    "**Q6**. On choisit maintenant $K=3$. Représenter l'évolution de la log-vraisemblance pour 10 graines aléatoires différentes. Commenter.\n",
    "\n",
    "Afficher deux cas où la solution retournée par l'algorithme EM est visuellement différente. Commenter.\n",
    "\n",
    "Quelle estimation de paramètres doit-on choisir ?"
   ]
  },
  {
   "cell_type": "code",
   "execution_count": null,
   "id": "a7467b06",
   "metadata": {},
   "outputs": [],
   "source": [
    "K = 3\n",
    "\n",
    "# # # # # # # # #\n",
    "# YOUR CODE HERE #\n",
    "# # # # # # # # #"
   ]
  },
  {
   "cell_type": "markdown",
   "id": "3c0002c3",
   "metadata": {},
   "source": [
    "\n",
    "----- Votre réponse ici -----"
   ]
  },
  {
   "cell_type": "markdown",
   "id": "46a74d13",
   "metadata": {},
   "source": [
    "**Q7**. On cherche maintenant à choisir la valeur optimale de $K$. Pour cela, on aimerait pouvoir comparer la vraisemblance des modèles obtenus avec différentes valeurs de $K$.\n",
    "\n",
    "Cela peut se faire au travers d'un critère de sélection de modèle. Dans ce TP, nous étudierons le critère dit BIC :\n",
    "$$ \\text{BIC}(m) = k(m) \\log(n) - 2 \\log \\mathcal{L}(m),$$\n",
    "où $m$ est un modèle (ici donné par une valeur de $K$), $k_m$ est le nombre de paramètres libres dans le modèle, $n$ le nombre d'échantillons, et $\\mathcal{L}_m$ le maximum de la fonction de vraisemblance de le modèle $m$. On sélectionne le modèle avec le plus faible BIC.\n",
    "\n",
    "Montrer que $$k(m) = \\frac{K}{2} (D+1)(D+2) - 1.$$\n",
    "\n",
    "Comparer les valeurs de $K$ allant de 1 à 6. Quel est le modèle optimal d'après le critère BIC ?"
   ]
  },
  {
   "cell_type": "code",
   "execution_count": null,
   "id": "a9ed453a",
   "metadata": {},
   "outputs": [],
   "source": [
    "# # # # # # # # #\n",
    "# YOUR CODE HERE #\n",
    "# # # # # # # # #"
   ]
  },
  {
   "cell_type": "markdown",
   "id": "e689fe03",
   "metadata": {},
   "source": [
    "\n",
    "----- Votre réponse ici -----"
   ]
  },
  {
   "cell_type": "markdown",
   "id": "6fd103c6",
   "metadata": {},
   "source": [
    "**Question bonus**. Expliquer comment l'algorithme EM peut-être utilisé pour du clustering."
   ]
  },
  {
   "cell_type": "markdown",
   "id": "dc8a1b08",
   "metadata": {},
   "source": [
    "\n",
    "----- Votre réponse ici -----"
   ]
  }
 ],
 "metadata": {
  "kernelspec": {
   "display_name": "Python 3 (ipykernel)",
   "language": "python",
   "name": "python3"
  },
  "language_info": {
   "codemirror_mode": {
    "name": "ipython",
    "version": 3
   },
   "file_extension": ".py",
   "mimetype": "text/x-python",
   "name": "python",
   "nbconvert_exporter": "python",
   "pygments_lexer": "ipython3",
   "version": "3.10.10"
  }
 },
 "nbformat": 4,
 "nbformat_minor": 5
}
